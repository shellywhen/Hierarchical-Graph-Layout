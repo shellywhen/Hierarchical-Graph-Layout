{
 "cells": [
  {
   "cell_type": "code",
   "execution_count": 12,
   "metadata": {},
   "outputs": [],
   "source": [
    "import csv\n",
    "import json\n",
    "a=[]\n",
    "b=[]\n",
    "index=0\n",
    "lid=0\n",
    "node=[]\n",
    "link=[]\n",
    "with open('data/initial data/douban.csv','r') as f:\n",
    "    data = csv.reader(f)\n",
    "    for i in range(154908):\n",
    "        node.append({'index':i,'degree':0}) \n",
    "    for row in data:\n",
    "        link.append({'index':lid,'source':int(row[0])-1,'target':int(row[1])-1})\n",
    "        node[int(row[0])-1]['degree']+=1\n",
    "        node[int(row[1])-1]['degree']+=1\n",
    "        lid+=1\n",
    "d=[{'node':node,'link':link}]\n",
    "with  open ('data/douban.json','w')as ff:\n",
    "    json.dump(d,ff)\n",
    "    "
   ]
  },
  {
   "cell_type": "code",
   "execution_count": null,
   "metadata": {
    "collapsed": true
   },
   "outputs": [],
   "source": []
  }
 ],
 "metadata": {
  "kernelspec": {
   "display_name": "Python 3",
   "language": "python",
   "name": "python3"
  },
  "language_info": {
   "codemirror_mode": {
    "name": "ipython",
    "version": 3
   },
   "file_extension": ".py",
   "mimetype": "text/x-python",
   "name": "python",
   "nbconvert_exporter": "python",
   "pygments_lexer": "ipython3",
   "version": "3.6.2"
  }
 },
 "nbformat": 4,
 "nbformat_minor": 2
}
