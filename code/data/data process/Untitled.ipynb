{
 "cells": [
  {
   "cell_type": "code",
   "execution_count": 26,
   "metadata": {},
   "outputs": [],
   "source": [
    "import json\n",
    "import pandas\n",
    "import numpy\n",
    "data=pandas.read_table(\"data/initial data/CA-HepPh.txt\",delim_whitespace=True,encoding=\"UTF-8\",header=0)\n",
    "node=[]\n",
    "index=-1\n",
    "link_index=0\n",
    "link=[]\n",
    "m={}\n",
    "for id,r in data.iterrows():\n",
    "    link_index+=1\n",
    "    if r['One'] in m.keys():\n",
    "        node[m[r['One']]]['degree']+=1\n",
    "        a=node[m[r['One']]]\n",
    "    else:\n",
    "        index+=1\n",
    "        m[r['One']]=index\n",
    "        a={'index':index,'degree':1}\n",
    "        node.append(a)\n",
    "    if r['Two'] in m.keys():\n",
    "        node[m[r['Two']]]['degree']+=1\n",
    "        b=node[m[r['Two']]]\n",
    "    else:\n",
    "        index+=1\n",
    "        m[r['Two']]=index\n",
    "        b={'index':index,'degree':1}\n",
    "        node.append(b)\n",
    "    var = {'source':a['index'],'target':b['index'],'index':link_index}\n",
    "    link.append(var)"
   ]
  },
  {
   "cell_type": "code",
   "execution_count": 27,
   "metadata": {},
   "outputs": [],
   "source": [
    "d=[{'node':node,'link':link}]\n",
    "with open ('data/Physics.json','w')as f:\n",
    "    json.dump(d,f)"
   ]
  },
  {
   "cell_type": "code",
   "execution_count": 28,
   "metadata": {},
   "outputs": [
    {
     "name": "stdout",
     "output_type": "stream",
     "text": [
      "12008\n"
     ]
    }
   ],
   "source": [
    "print(len(node))"
   ]
  },
  {
   "cell_type": "code",
   "execution_count": null,
   "metadata": {
    "collapsed": true
   },
   "outputs": [],
   "source": []
  }
 ],
 "metadata": {
  "kernelspec": {
   "display_name": "Python 3",
   "language": "python",
   "name": "python3"
  },
  "language_info": {
   "codemirror_mode": {
    "name": "ipython",
    "version": 3
   },
   "file_extension": ".py",
   "mimetype": "text/x-python",
   "name": "python",
   "nbconvert_exporter": "python",
   "pygments_lexer": "ipython3",
   "version": "3.6.2"
  }
 },
 "nbformat": 4,
 "nbformat_minor": 2
}
