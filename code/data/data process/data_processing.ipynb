{
 "cells": [
  {
   "cell_type": "code",
   "execution_count": 1,
   "metadata": {
    "collapsed": true
   },
   "outputs": [],
   "source": [
    "import csv\n",
    "import json\n",
    "a=[]\n",
    "b=[]\n",
    "index=0\n",
    "lid=0\n",
    "node=[]\n",
    "link=[]\n",
    "with open('data/initial data/pdz.csv','r') as f:\n",
    "    data = csv.reader(f)\n",
    "    for i in range(212):\n",
    "        node.append({'index':i,'degree':0}) \n",
    "    for row in data:\n",
    "        link.append({'index':lid,'source':int(row[0])-1,'target':int(row[1])-1})\n",
    "        node[int(row[0])-1]['degree']+=1\n",
    "        node[int(row[1])-1]['degree']+=1\n",
    "        lid+=1\n",
    "d=[{'node':node,'link':link}]\n",
    "with  open ('data/pdz.json','w')as ff:\n",
    "    json.dump(d,ff)\n",
    "    "
   ]
  },
  {
   "cell_type": "code",
   "execution_count": null,
   "metadata": {
    "collapsed": true
   },
   "outputs": [],
   "source": []
  }
 ],
 "metadata": {
  "kernelspec": {
   "display_name": "Python 3",
   "language": "python",
   "name": "python3"
  },
  "language_info": {
   "codemirror_mode": {
    "name": "ipython",
    "version": 3
   },
   "file_extension": ".py",
   "mimetype": "text/x-python",
   "name": "python",
   "nbconvert_exporter": "python",
   "pygments_lexer": "ipython3",
   "version": "3.6.2"
  }
 },
 "nbformat": 4,
 "nbformat_minor": 2
}
