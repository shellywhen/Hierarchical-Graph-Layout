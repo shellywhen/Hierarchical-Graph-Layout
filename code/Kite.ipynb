{
 "cells": [
  {
   "cell_type": "code",
   "execution_count": 6,
   "metadata": {},
   "outputs": [],
   "source": [
    "import json\n",
    "f=open('data/initial data/Brightkite_edges.txt')\n",
    "node=[]\n",
    "link=[]\n",
    "cnt=0\n",
    "for i in range(58228):\n",
    "    node.append({'index':i,'degree':0})\n",
    "while True:\n",
    "    s=f.readline()\n",
    "    if not s:\n",
    "        break\n",
    "    arr=s.split('\\t')\n",
    "    a=int(arr[0])\n",
    "    b=int(arr[1].replace('\\n',' '))\n",
    "    link.append({'source':a,'target':b,'index':cnt})\n",
    "    node[a]['degree']+=1\n",
    "    node[b]['degree']+=1\n",
    "    ++cnt\n",
    "d=[{'node':node,'link':link}]\n",
    "with open('data/kite.json','w')as ff:\n",
    "    json.dump(d,ff)     "
   ]
  },
  {
   "cell_type": "code",
   "execution_count": null,
   "metadata": {
    "collapsed": true
   },
   "outputs": [],
   "source": []
  }
 ],
 "metadata": {
  "kernelspec": {
   "display_name": "Python 3",
   "language": "python",
   "name": "python3"
  },
  "language_info": {
   "codemirror_mode": {
    "name": "ipython",
    "version": 3
   },
   "file_extension": ".py",
   "mimetype": "text/x-python",
   "name": "python",
   "nbconvert_exporter": "python",
   "pygments_lexer": "ipython3",
   "version": "3.6.2"
  }
 },
 "nbformat": 4,
 "nbformat_minor": 2
}
